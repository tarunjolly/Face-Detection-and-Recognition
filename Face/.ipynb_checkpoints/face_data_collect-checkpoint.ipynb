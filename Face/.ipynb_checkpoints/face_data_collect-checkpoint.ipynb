{
 "cells": [
  {
   "cell_type": "code",
   "execution_count": 2,
   "metadata": {},
   "outputs": [],
   "source": [
    "# 1.Read and show video stream,capture images\n",
    "# 2.Detect faces and show bounding box(haarcascade)\n",
    "# 3.Flatten the largest face image(gray scale) and save in a numpy array\n",
    "# 4. Repeat the above for multiple people to generate training data"
   ]
  },
  {
   "cell_type": "code",
   "execution_count": 33,
   "metadata": {},
   "outputs": [],
   "source": [
    "import cv2\n",
    "import numpy as np"
   ]
  },
  {
   "cell_type": "code",
   "execution_count": null,
   "metadata": {},
   "outputs": [],
   "source": [
    "#init camera\n",
    "cap=cv2.VideoCapture(0)\n",
    "\n",
    "# face detection\n",
    "face_cascade=cv2.CascadeClassifier(\"haarcascade_frontalface_alt.xml\")\n",
    "\n",
    "skip=0\n",
    "face_data=[]\n",
    "dataset_path='./data/'\n",
    "file_name=input(\"Enter your name of the person: \")\n",
    "while True:\n",
    "    \n",
    "    ret,frame=cap.read()\n",
    "    if ret==False:\n",
    "        continue\n",
    "    \n",
    "    gray_frame=cv2.cvtColor(frame,cv2.COLOR_BGR2GRAY)\n",
    "    faces=face_cascade.detectMultiScale(frame,1.3,5)\n",
    "    #print(faces)\n",
    "    \n",
    "    #faces=sorted(faces,key=Lambda f:f[2]*f[3])\n",
    "    faces = sorted(faces,key=lambda f:f[2]*f[3])\n",
    "    \n",
    "    #pick the last face (becasue it is the largest face acc to the area f[2]*f[3])\n",
    "    for face in faces[-1:]:\n",
    "        x,y,w,h=face\n",
    "        cv2.rectangle(frame,(x,y),(x+w,y+h),(0,255,255),2)\n",
    "        \n",
    "        #extract (crop out the required face):region of interest\n",
    "        offset=10\n",
    "        face_section=frame[y-offset:y+h+offset,x-offset:x+w+offset]\n",
    "        face_section=cv2.resize(face_section,(100,100))\n",
    "        skip+=1\n",
    "        if(skip%10==0):\n",
    "            face_data.append(face_section)\n",
    "            print(len(face_data))\n",
    "#         face_data.append(face_Section)\n",
    "#         print(len(face_data))\n",
    "        \n",
    "        \n",
    "    cv2.imshow(\"frame\",frame)\n",
    "    cv2.imshow(\"face section\",face_section)\n",
    "    \n",
    "    \n",
    "    key_pressed=cv2.waitKey(1) & 0xFF\n",
    "    if key_pressed==ord('q'):\n",
    "        break\n",
    "    \n",
    "#convert our face list array into numpy array\n",
    "print(\"face data before \")\n",
    "print(face_data)\n",
    "face_data=np.asarray(face_data)\n",
    "print(\"face data  \")\n",
    "print(face_data)\n",
    "\n",
    "\n",
    "face_data=face_data.reshape((face_data.shape[0],-1))\n",
    "print(\"face data after \")\n",
    "print(face_data)\n",
    "\n",
    "print(face_data.shape)\n",
    "\n",
    "#save this data into file system\n",
    "print(face_data)\n",
    "np.save(dataset_path+file_name+'.npy',face_data)\n",
    "print(\"data successfully saved at\"+dataset_path+file_name+'.npy')\n",
    "cap.release()\n",
    "cv2.destroyAllWindows()\n"
   ]
  },
  {
   "cell_type": "code",
   "execution_count": null,
   "metadata": {},
   "outputs": [],
   "source": []
  }
 ],
 "metadata": {
  "kernelspec": {
   "display_name": "Python 3",
   "language": "python",
   "name": "python3"
  },
  "language_info": {
   "codemirror_mode": {
    "name": "ipython",
    "version": 3
   },
   "file_extension": ".py",
   "mimetype": "text/x-python",
   "name": "python",
   "nbconvert_exporter": "python",
   "pygments_lexer": "ipython3",
   "version": "3.7.4"
  }
 },
 "nbformat": 4,
 "nbformat_minor": 2
}
